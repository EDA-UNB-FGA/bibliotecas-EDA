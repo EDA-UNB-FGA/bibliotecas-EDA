{
 "cells": [
  {
   "cell_type": "markdown",
   "metadata": {},
   "source": [
    "# Tutorial listas simples (NAO ORDENADA)"
   ]
  },
  {
   "cell_type": "markdown",
   "metadata": {},
   "source": [
    "O objetivo desse tutorial é mostrar com implementar uma lista simplesmente encadeada de forma rápida e concisa.\n",
    "Os detalhes de escolha desta implementação estão explicadas do conteúdo teórico da disciplina."
   ]
  },
  {
   "cell_type": "markdown",
   "metadata": {},
   "source": [
    "## Corpo do código"
   ]
  },
  {
   "cell_type": "code",
   "execution_count": null,
   "metadata": {
    "collapsed": true
   },
   "outputs": [],
   "source": [
    "#include <stdio.h>\n",
    "#include <stdlib.h> //importanto as funções de alocação de memória\n",
    "\n",
    "## definindo a estrutura, exemplo com inteiros\n",
    "typedef struct Node{\n",
    "    int info;\n",
    "    struct Node *prox;\n",
    "}node;\n",
    "\n",
    "int main(){\n",
    "    \n",
    "    \n",
    "    return 0;\n",
    "}"
   ]
  },
  {
   "cell_type": "markdown",
   "metadata": {},
   "source": [
    "## Função para alocar elementos da lista"
   ]
  },
  {
   "cell_type": "code",
   "execution_count": null,
   "metadata": {},
   "outputs": [],
   "source": [
    "##retorna um ponteiro para o 'nó' da lista\n",
    "node * alocarNode(int info){\n",
    "    #aloca o nó\n",
    "    node *tmp = (node*)malloc(sizeof(node));\n",
    "    \n",
    "    #atribui a informação\n",
    "    tmp->info=info;\n",
    "    \n",
    "    #limpa o ponteiro para o próximo nó\n",
    "    tmp->prox=NULL;\n",
    "    \n",
    "    #retornar o nó alocado\n",
    "    return tmp;\n",
    "}"
   ]
  },
  {
   "cell_type": "markdown",
   "metadata": {},
   "source": [
    "## Função de Inserção (RECURSIVA)"
   ]
  },
  {
   "cell_type": "code",
   "execution_count": null,
   "metadata": {
    "collapsed": true
   },
   "outputs": [],
   "source": [
    "##retorna a lista com o elemento inserido\n",
    "node *insertElement(node *mylist, node *element){\n",
    "    \n",
    "    ##se a lista estiver vazia ou for o último elemento o nó é alocado\n",
    "    if(list==NULL)return element;\n",
    "    else mylist->prox = insertElement(mylist->prox,element) # a magia da recusão\n",
    "    \n",
    "    #retorna a lista\n",
    "    return mylist;\n",
    "}"
   ]
  },
  {
   "cell_type": "markdown",
   "metadata": {},
   "source": [
    "## Remoção (RECURSIVO)"
   ]
  },
  {
   "cell_type": "code",
   "execution_count": null,
   "metadata": {
    "collapsed": true
   },
   "outputs": [],
   "source": [
    "##remove o 'nó' da lista\n",
    "node * removeNode(node *mylist, int element){ #agora só precisamos do label do elemento, não ele em si\n",
    "    node *aux=mylist;\n",
    "    #caso a lista não seja NULL\n",
    "    if(mylist!=NULL){\n",
    "        \n",
    "        ##caso encontre, une a lista e exclui o elemento, do contrário continua a busca\n",
    "        if(mylist->info==label){\n",
    "            \n",
    "            #move o ponteiro da lista para frente\n",
    "            mylist=mylist->prox;\n",
    "            \n",
    "            #remove o elemento da lista (lembre aux=mylist)\n",
    "            free(aux);\n",
    "            \n",
    "            #retorna a lista com o elemento retirado\n",
    "            return mylist;\n",
    "        }else mylist->prox=removeNode(mylist->prox,element); ## continua a busca\n",
    "    }\n",
    "    \n",
    "    return mylist;\n",
    "}"
   ]
  },
  {
   "cell_type": "markdown",
   "metadata": {},
   "source": [
    "## Imprimindo a lista na tela (RECURSIVO)"
   ]
  },
  {
   "cell_type": "code",
   "execution_count": null,
   "metadata": {
    "collapsed": true
   },
   "outputs": [],
   "source": [
    "#imprime cada elemento da lista\n",
    "void listar(mylist){\n",
    "    \n",
    "    #verifica se realmente é um elemento da lista\n",
    "    if(mylist!=NULL){\n",
    "        \n",
    "        ## mostra na tela este elemento\n",
    "        printf(\"[%d]\", mylist->info);\n",
    "        \n",
    "        ##procura no resto da lista até chegar ao final\n",
    "        listar(mylist->prox);\n",
    "    }\n",
    "}"
   ]
  }
 ],
 "metadata": {
  "kernelspec": {
   "display_name": "Python 3",
   "language": "python",
   "name": "python3"
  },
  "language_info": {
   "codemirror_mode": {
    "name": "ipython",
    "version": 3
   },
   "file_extension": ".py",
   "mimetype": "text/x-python",
   "name": "python",
   "nbconvert_exporter": "python",
   "pygments_lexer": "ipython3",
   "version": "3.5.2"
  }
 },
 "nbformat": 4,
 "nbformat_minor": 2
}
